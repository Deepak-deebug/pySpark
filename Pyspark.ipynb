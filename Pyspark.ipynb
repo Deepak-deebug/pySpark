{
  "nbformat": 4,
  "nbformat_minor": 0,
  "metadata": {
    "colab": {
      "name": "Pyspark",
      "provenance": [],
      "collapsed_sections": []
    },
    "kernelspec": {
      "name": "python3",
      "display_name": "Python 3"
    },
    "language_info": {
      "name": "python"
    }
  },
  "cells": [
    {
      "cell_type": "code",
      "execution_count": 14,
      "metadata": {
        "colab": {
          "base_uri": "https://localhost:8080/"
        },
        "id": "iwMc4lRQv_d6",
        "outputId": "44386741-e0f2-4d74-8fab-43a952b15c60"
      },
      "outputs": [
        {
          "output_type": "stream",
          "name": "stdout",
          "text": [
            "Requirement already satisfied: pyspark in /usr/local/lib/python3.7/dist-packages (3.2.0)\n",
            "Requirement already satisfied: py4j==0.10.9.2 in /usr/local/lib/python3.7/dist-packages (from pyspark) (0.10.9.2)\n"
          ]
        }
      ],
      "source": [
        "!pip install pyspark"
      ]
    },
    {
      "cell_type": "markdown",
      "source": [
        "**Creating New Column in PySpark DataFrame**"
      ],
      "metadata": {
        "id": "bH1Eys181xSM"
      }
    },
    {
      "cell_type": "code",
      "source": [
        "from pyspark.sql import SparkSession"
      ],
      "metadata": {
        "id": "a8K5nvk8wXgf"
      },
      "execution_count": 2,
      "outputs": []
    },
    {
      "cell_type": "code",
      "source": [
        "spark = SparkSession.builder.appName('PySpark Column Ops').getOrCreate()"
      ],
      "metadata": {
        "id": "RQg70VV1weKb"
      },
      "execution_count": 3,
      "outputs": []
    },
    {
      "cell_type": "code",
      "source": [
        "df = spark.read.csv('/content/Fish.csv', sep = ',', inferSchema = True, header = True)"
      ],
      "metadata": {
        "id": "X9XYUJ0UwiGx"
      },
      "execution_count": 6,
      "outputs": []
    },
    {
      "cell_type": "code",
      "source": [
        "df.show()"
      ],
      "metadata": {
        "colab": {
          "base_uri": "https://localhost:8080/"
        },
        "id": "7T0_GY7rwo4-",
        "outputId": "bf538675-2a09-44a9-ccff-95c8b9dd0713"
      },
      "execution_count": 7,
      "outputs": [
        {
          "output_type": "stream",
          "name": "stdout",
          "text": [
            "+-------+------+-------+-------+-------+-------+------+\n",
            "|Species|Weight|Length1|Length2|Length3| Height| Width|\n",
            "+-------+------+-------+-------+-------+-------+------+\n",
            "|  Bream| 242.0|   23.2|   25.4|   30.0|  11.52|  4.02|\n",
            "|  Bream| 290.0|   24.0|   26.3|   31.2|  12.48|4.3056|\n",
            "|  Bream| 340.0|   23.9|   26.5|   31.1|12.3778|4.6961|\n",
            "|  Bream| 363.0|   26.3|   29.0|   33.5|  12.73|4.4555|\n",
            "|  Bream| 430.0|   26.5|   29.0|   34.0| 12.444| 5.134|\n",
            "|  Bream| 450.0|   26.8|   29.7|   34.7|13.6024|4.9274|\n",
            "|  Bream| 500.0|   26.8|   29.7|   34.5|14.1795|5.2785|\n",
            "|  Bream| 390.0|   27.6|   30.0|   35.0|  12.67|  4.69|\n",
            "|  Bream| 450.0|   27.6|   30.0|   35.1|14.0049|4.8438|\n",
            "|  Bream| 500.0|   28.5|   30.7|   36.2|14.2266|4.9594|\n",
            "|  Bream| 475.0|   28.4|   31.0|   36.2|14.2628|5.1042|\n",
            "|  Bream| 500.0|   28.7|   31.0|   36.2|14.3714|4.8146|\n",
            "|  Bream| 500.0|   29.1|   31.5|   36.4|13.7592| 4.368|\n",
            "|  Bream| 340.0|   29.5|   32.0|   37.3|13.9129|5.0728|\n",
            "|  Bream| 600.0|   29.4|   32.0|   37.2|14.9544|5.1708|\n",
            "|  Bream| 600.0|   29.4|   32.0|   37.2| 15.438|  5.58|\n",
            "|  Bream| 700.0|   30.4|   33.0|   38.3|14.8604|5.2854|\n",
            "|  Bream| 700.0|   30.4|   33.0|   38.5| 14.938|5.1975|\n",
            "|  Bream| 610.0|   30.9|   33.5|   38.6| 15.633|5.1338|\n",
            "|  Bream| 650.0|   31.0|   33.5|   38.7|14.4738|5.7276|\n",
            "+-------+------+-------+-------+-------+-------+------+\n",
            "only showing top 20 rows\n",
            "\n"
          ]
        }
      ]
    },
    {
      "cell_type": "markdown",
      "source": [
        "**Renaming an Existing Column in PySpark DataFrame**"
      ],
      "metadata": {
        "id": "jminpGAN173i"
      }
    },
    {
      "cell_type": "code",
      "source": [
        "df = df.withColumn('Weight in Kg', df.Weight/1000)"
      ],
      "metadata": {
        "id": "RX4eiV9iwswR"
      },
      "execution_count": 8,
      "outputs": []
    },
    {
      "cell_type": "code",
      "source": [
        "df.show()"
      ],
      "metadata": {
        "colab": {
          "base_uri": "https://localhost:8080/"
        },
        "id": "eDdWR1yHxNjK",
        "outputId": "ae9ab15d-4927-4f2b-ab97-c9e759472140"
      },
      "execution_count": 9,
      "outputs": [
        {
          "output_type": "stream",
          "name": "stdout",
          "text": [
            "+-------+------+-------+-------+-------+-------+------+------------+\n",
            "|Species|Weight|Length1|Length2|Length3| Height| Width|Weight in Kg|\n",
            "+-------+------+-------+-------+-------+-------+------+------------+\n",
            "|  Bream| 242.0|   23.2|   25.4|   30.0|  11.52|  4.02|       0.242|\n",
            "|  Bream| 290.0|   24.0|   26.3|   31.2|  12.48|4.3056|        0.29|\n",
            "|  Bream| 340.0|   23.9|   26.5|   31.1|12.3778|4.6961|        0.34|\n",
            "|  Bream| 363.0|   26.3|   29.0|   33.5|  12.73|4.4555|       0.363|\n",
            "|  Bream| 430.0|   26.5|   29.0|   34.0| 12.444| 5.134|        0.43|\n",
            "|  Bream| 450.0|   26.8|   29.7|   34.7|13.6024|4.9274|        0.45|\n",
            "|  Bream| 500.0|   26.8|   29.7|   34.5|14.1795|5.2785|         0.5|\n",
            "|  Bream| 390.0|   27.6|   30.0|   35.0|  12.67|  4.69|        0.39|\n",
            "|  Bream| 450.0|   27.6|   30.0|   35.1|14.0049|4.8438|        0.45|\n",
            "|  Bream| 500.0|   28.5|   30.7|   36.2|14.2266|4.9594|         0.5|\n",
            "|  Bream| 475.0|   28.4|   31.0|   36.2|14.2628|5.1042|       0.475|\n",
            "|  Bream| 500.0|   28.7|   31.0|   36.2|14.3714|4.8146|         0.5|\n",
            "|  Bream| 500.0|   29.1|   31.5|   36.4|13.7592| 4.368|         0.5|\n",
            "|  Bream| 340.0|   29.5|   32.0|   37.3|13.9129|5.0728|        0.34|\n",
            "|  Bream| 600.0|   29.4|   32.0|   37.2|14.9544|5.1708|         0.6|\n",
            "|  Bream| 600.0|   29.4|   32.0|   37.2| 15.438|  5.58|         0.6|\n",
            "|  Bream| 700.0|   30.4|   33.0|   38.3|14.8604|5.2854|         0.7|\n",
            "|  Bream| 700.0|   30.4|   33.0|   38.5| 14.938|5.1975|         0.7|\n",
            "|  Bream| 610.0|   30.9|   33.5|   38.6| 15.633|5.1338|        0.61|\n",
            "|  Bream| 650.0|   31.0|   33.5|   38.7|14.4738|5.7276|        0.65|\n",
            "+-------+------+-------+-------+-------+-------+------+------------+\n",
            "only showing top 20 rows\n",
            "\n"
          ]
        }
      ]
    },
    {
      "cell_type": "markdown",
      "source": [
        "**Selecting One or More Columns of PySpark DataFrame**"
      ],
      "metadata": {
        "id": "Ct57ga472Brv"
      }
    },
    {
      "cell_type": "code",
      "source": [
        "df = df.withColumnRenamed(\"Weight in Kg\", \"Weight in Kilograms\")"
      ],
      "metadata": {
        "id": "j2PxIZXaxVzO"
      },
      "execution_count": 10,
      "outputs": []
    },
    {
      "cell_type": "code",
      "source": [
        "df.show()"
      ],
      "metadata": {
        "colab": {
          "base_uri": "https://localhost:8080/"
        },
        "id": "KF7WlugRxgJN",
        "outputId": "b0ef28c4-c019-4a60-acce-d1fcf2c27a02"
      },
      "execution_count": 11,
      "outputs": [
        {
          "output_type": "stream",
          "name": "stdout",
          "text": [
            "+-------+------+-------+-------+-------+-------+------+-------------------+\n",
            "|Species|Weight|Length1|Length2|Length3| Height| Width|Weight in Kilograms|\n",
            "+-------+------+-------+-------+-------+-------+------+-------------------+\n",
            "|  Bream| 242.0|   23.2|   25.4|   30.0|  11.52|  4.02|              0.242|\n",
            "|  Bream| 290.0|   24.0|   26.3|   31.2|  12.48|4.3056|               0.29|\n",
            "|  Bream| 340.0|   23.9|   26.5|   31.1|12.3778|4.6961|               0.34|\n",
            "|  Bream| 363.0|   26.3|   29.0|   33.5|  12.73|4.4555|              0.363|\n",
            "|  Bream| 430.0|   26.5|   29.0|   34.0| 12.444| 5.134|               0.43|\n",
            "|  Bream| 450.0|   26.8|   29.7|   34.7|13.6024|4.9274|               0.45|\n",
            "|  Bream| 500.0|   26.8|   29.7|   34.5|14.1795|5.2785|                0.5|\n",
            "|  Bream| 390.0|   27.6|   30.0|   35.0|  12.67|  4.69|               0.39|\n",
            "|  Bream| 450.0|   27.6|   30.0|   35.1|14.0049|4.8438|               0.45|\n",
            "|  Bream| 500.0|   28.5|   30.7|   36.2|14.2266|4.9594|                0.5|\n",
            "|  Bream| 475.0|   28.4|   31.0|   36.2|14.2628|5.1042|              0.475|\n",
            "|  Bream| 500.0|   28.7|   31.0|   36.2|14.3714|4.8146|                0.5|\n",
            "|  Bream| 500.0|   29.1|   31.5|   36.4|13.7592| 4.368|                0.5|\n",
            "|  Bream| 340.0|   29.5|   32.0|   37.3|13.9129|5.0728|               0.34|\n",
            "|  Bream| 600.0|   29.4|   32.0|   37.2|14.9544|5.1708|                0.6|\n",
            "|  Bream| 600.0|   29.4|   32.0|   37.2| 15.438|  5.58|                0.6|\n",
            "|  Bream| 700.0|   30.4|   33.0|   38.3|14.8604|5.2854|                0.7|\n",
            "|  Bream| 700.0|   30.4|   33.0|   38.5| 14.938|5.1975|                0.7|\n",
            "|  Bream| 610.0|   30.9|   33.5|   38.6| 15.633|5.1338|               0.61|\n",
            "|  Bream| 650.0|   31.0|   33.5|   38.7|14.4738|5.7276|               0.65|\n",
            "+-------+------+-------+-------+-------+-------+------+-------------------+\n",
            "only showing top 20 rows\n",
            "\n"
          ]
        }
      ]
    },
    {
      "cell_type": "markdown",
      "source": [
        "**Creating a Column Alias in PySpark DataFrame**"
      ],
      "metadata": {
        "id": "jpGvl0fv2IJ_"
      }
    },
    {
      "cell_type": "code",
      "source": [
        "df.select(df.Weight, df['Weight in Kilograms']).show()"
      ],
      "metadata": {
        "colab": {
          "base_uri": "https://localhost:8080/"
        },
        "id": "1UtuDR2vxkUi",
        "outputId": "89b7b537-c2e9-40a0-94d5-b667223069a7"
      },
      "execution_count": 12,
      "outputs": [
        {
          "output_type": "stream",
          "name": "stdout",
          "text": [
            "+------+-------------------+\n",
            "|Weight|Weight in Kilograms|\n",
            "+------+-------------------+\n",
            "| 242.0|              0.242|\n",
            "| 290.0|               0.29|\n",
            "| 340.0|               0.34|\n",
            "| 363.0|              0.363|\n",
            "| 430.0|               0.43|\n",
            "| 450.0|               0.45|\n",
            "| 500.0|                0.5|\n",
            "| 390.0|               0.39|\n",
            "| 450.0|               0.45|\n",
            "| 500.0|                0.5|\n",
            "| 475.0|              0.475|\n",
            "| 500.0|                0.5|\n",
            "| 500.0|                0.5|\n",
            "| 340.0|               0.34|\n",
            "| 600.0|                0.6|\n",
            "| 600.0|                0.6|\n",
            "| 700.0|                0.7|\n",
            "| 700.0|                0.7|\n",
            "| 610.0|               0.61|\n",
            "| 650.0|               0.65|\n",
            "+------+-------------------+\n",
            "only showing top 20 rows\n",
            "\n"
          ]
        }
      ]
    },
    {
      "cell_type": "code",
      "source": [
        "df.select(df['Weight in Kilograms'].alias(\"Kilograms\")).show()"
      ],
      "metadata": {
        "colab": {
          "base_uri": "https://localhost:8080/"
        },
        "id": "fRJiGXlAxp8o",
        "outputId": "c1da0e63-d710-457d-ff14-00e8ca0d3f7b"
      },
      "execution_count": 13,
      "outputs": [
        {
          "output_type": "stream",
          "name": "stdout",
          "text": [
            "+---------+\n",
            "|Kilograms|\n",
            "+---------+\n",
            "|    0.242|\n",
            "|     0.29|\n",
            "|     0.34|\n",
            "|    0.363|\n",
            "|     0.43|\n",
            "|     0.45|\n",
            "|      0.5|\n",
            "|     0.39|\n",
            "|     0.45|\n",
            "|      0.5|\n",
            "|    0.475|\n",
            "|      0.5|\n",
            "|      0.5|\n",
            "|     0.34|\n",
            "|      0.6|\n",
            "|      0.6|\n",
            "|      0.7|\n",
            "|      0.7|\n",
            "|     0.61|\n",
            "|     0.65|\n",
            "+---------+\n",
            "only showing top 20 rows\n",
            "\n"
          ]
        }
      ]
    },
    {
      "cell_type": "code",
      "source": [
        ""
      ],
      "metadata": {
        "id": "JkmdxFKIxxsx"
      },
      "execution_count": null,
      "outputs": []
    }
  ]
}